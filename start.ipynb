{
  "nbformat": 4,
  "nbformat_minor": 0,
  "metadata": {
    "colab": {
      "name": "Untitled6.ipynb",
      "provenance": [],
      "collapsed_sections": []
    },
    "kernelspec": {
      "name": "python3",
      "display_name": "Python 3"
    },
    "language_info": {
      "name": "python"
    }
  },
  "cells": [
    {
      "cell_type": "code",
      "metadata": {
        "id": "Ep5BmEKqbYqn"
      },
      "source": [
        "from zipfile import ZipFile\n",
        "file_name='test_code.zip'\n",
        "\n",
        "with ZipFile(file_name,'r') as zip:\n",
        "  zip.extractall()\n",
        "  print('done')"
      ],
      "execution_count": null,
      "outputs": []
    },
    {
      "cell_type": "code",
      "metadata": {
        "id": "6SXb2op2brU4"
      },
      "source": [
        "!pip install streamlit\n",
        "\n",
        "!pip install pyngrok"
      ],
      "execution_count": null,
      "outputs": []
    },
    {
      "cell_type": "code",
      "metadata": {
        "id": "9nboTifObg65"
      },
      "source": [
        "!ngrok authtoken 1qaIbX5VxjxbEbuokKLuq7Cvbbe_5pTT8mMVxYxbk2Nh5FWCf"
      ],
      "execution_count": null,
      "outputs": []
    },
    {
      "cell_type": "code",
      "metadata": {
        "id": "OYqA6RQYbhzB"
      },
      "source": [
        "from pyngrok import ngrok\n",
        "\n",
        "url=ngrok.connect(port='8501')\n",
        "url"
      ],
      "execution_count": null,
      "outputs": []
    },
    {
      "cell_type": "code",
      "metadata": {
        "id": "m7IBexRYblrT"
      },
      "source": [
        "%tensorflow_version 1.x"
      ],
      "execution_count": null,
      "outputs": []
    },
    {
      "cell_type": "code",
      "metadata": {
        "colab": {
          "base_uri": "https://localhost:8080/"
        },
        "id": "exqNQiabrlym",
        "outputId": "9f14cc18-4cd7-418a-c728-4fd0d392e39a"
      },
      "source": [
        "%%writefile app.py\n",
        "import streamlit as st\n",
        "from PIL import Image\n",
        "\n",
        "st.title('IMAGE CARTOONIZER')\n",
        "st.text(\"UPLOAD AN IMAGE\")\n",
        "\n",
        "uploaded_file=st.file_uploader(\"Choose an Image:\",type=\"jpg\")\n",
        "if uploaded_file is not None:\n",
        "  img=Image.open(uploaded_file)\n",
        "  st.image(img,caption=\"Uploaded Image\")\n",
        "\n",
        "  if st.button(\"PREDICT\"):\n",
        "    img = img.save(\"/content/test_code/test_images/new.jpg\")\n",
        "    !python /content/test_code/cartoonize.py\n",
        "    res = Image.open(\"/content/test_code/cartoonized_images/new.jpg\")\n",
        "    st.text(\"RESULT\")\n",
        "    st.image(img,caption=\"Cartoonized Image\")"
      ],
      "execution_count": 17,
      "outputs": [
        {
          "output_type": "stream",
          "text": [
            "Overwriting app.py\n"
          ],
          "name": "stdout"
        }
      ]
    },
    {
      "cell_type": "code",
      "metadata": {
        "colab": {
          "base_uri": "https://localhost:8080/"
        },
        "id": "nqiukYjUAFXs",
        "outputId": "e20b34fb-f0f2-43e8-a5d2-ab41edec71f9"
      },
      "source": [
        "!nohup streamlit run app.py &"
      ],
      "execution_count": null,
      "outputs": [
        {
          "output_type": "stream",
          "text": [
            "nohup: appending output to 'nohup.out'\n"
          ],
          "name": "stdout"
        }
      ]
    }
  ]
}